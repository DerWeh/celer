{
  "cells": [
    {
      "cell_type": "code",
      "execution_count": null,
      "metadata": {
        "collapsed": false
      },
      "outputs": [],
      "source": [
        "%matplotlib inline"
      ]
    },
    {
      "cell_type": "markdown",
      "metadata": {},
      "source": [
        "\n# Run LassoCV for cross-validation on the Leukemia dataset\n\nThe example runs the LassoCV scikit-learn like estimator\nusing the Celer algorithm.\n"
      ]
    },
    {
      "cell_type": "code",
      "execution_count": null,
      "metadata": {
        "collapsed": false
      },
      "outputs": [],
      "source": [
        "import numpy as np\nimport matplotlib.pyplot as plt\n\nfrom sklearn.datasets import fetch_openml\nfrom sklearn.model_selection import KFold\n\nfrom celer import LassoCV\nfrom celer.plot_utils import configure_plt\n\nprint(__doc__)\nconfigure_plt()\n\nprint(\"Loading data...\")\ndataset = fetch_openml(\"leukemia\")\nX = np.asfortranarray(dataset.data.astype(float))\ny = 2 * ((dataset.target == \"AML\") - 0.5)\ny -= np.mean(y)\ny /= np.std(y)\n\nkf = KFold(shuffle=True, n_splits=3, random_state=0)\nmodel = LassoCV(cv=kf, n_jobs=3)\nmodel.fit(X, y)\n\nprint(\"Estimated regularization parameter alpha: %s\" % model.alpha_)"
      ]
    },
    {
      "cell_type": "markdown",
      "metadata": {},
      "source": [
        "Display results\n\n"
      ]
    },
    {
      "cell_type": "code",
      "execution_count": null,
      "metadata": {
        "collapsed": false
      },
      "outputs": [],
      "source": [
        "plt.figure(figsize=(5, 3), constrained_layout=True)\nplt.semilogx(model.alphas_, model.mse_path_, ':')\nplt.semilogx(model.alphas_, model.mse_path_.mean(axis=-1), 'k',\n             label='Average across the folds', linewidth=2)\nplt.axvline(model.alpha_, linestyle='--', color='k',\n            label='alpha: CV estimate')\n\nplt.legend()\n\nplt.xlabel(r'$\\alpha$')\nplt.ylabel('Mean square prediction error')\nplt.show(block=False)"
      ]
    }
  ],
  "metadata": {
    "kernelspec": {
      "display_name": "Python 3",
      "language": "python",
      "name": "python3"
    },
    "language_info": {
      "codemirror_mode": {
        "name": "ipython",
        "version": 3
      },
      "file_extension": ".py",
      "mimetype": "text/x-python",
      "name": "python",
      "nbconvert_exporter": "python",
      "pygments_lexer": "ipython3",
      "version": "3.8.1"
    }
  },
  "nbformat": 4,
  "nbformat_minor": 0
}