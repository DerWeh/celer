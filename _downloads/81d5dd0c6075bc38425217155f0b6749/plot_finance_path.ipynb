{
  "cells": [
    {
      "cell_type": "code",
      "execution_count": null,
      "metadata": {
        "collapsed": false
      },
      "outputs": [],
      "source": [
        "%matplotlib inline"
      ]
    },
    {
      "cell_type": "markdown",
      "metadata": {},
      "source": [
        "\n# Lasso path computation on Finance/log1p dataset\n\nThe example runs the Celer algorithm on the Finance dataset\nwhich is a large sparse dataset.\n\nRunning time is not compared with the scikit-learn\nimplementation as it makes the example too long to run.\n"
      ]
    },
    {
      "cell_type": "code",
      "execution_count": null,
      "metadata": {
        "collapsed": false
      },
      "outputs": [],
      "source": [
        "import time\n\nimport numpy as np\nimport pandas as pd\nimport matplotlib.pyplot as plt\nfrom libsvmdata import fetch_libsvm\n\nfrom celer import celer_path\n\nprint(__doc__)\n\nprint(\"*** Warning: this example may take more than 5 minutes to run ***\")\nX, y = fetch_libsvm('finance')\ny -= np.mean(y)\nn_samples, n_features = X.shape\nalpha_max = np.max(np.abs(X.T.dot(y))) / n_samples\nprint(\"Dataset size: %d samples, %d features\" % X.shape)\n\n# construct grid of regularization parameters alpha\nn_alphas = 11\nalphas = alpha_max * np.geomspace(1, 0.1, n_alphas)"
      ]
    },
    {
      "cell_type": "markdown",
      "metadata": {},
      "source": [
        "Run Celer on a grid of regularization parameters, for various tolerances:\n\n"
      ]
    },
    {
      "cell_type": "code",
      "execution_count": null,
      "metadata": {
        "collapsed": false
      },
      "outputs": [],
      "source": [
        "tols = [1e-2, 1e-4, 1e-6]\nresults = np.zeros([1, len(tols)])\ngaps = np.zeros((len(tols), len(alphas)))\n\nprint(\"Starting path computation...\")\nfor tol_ix, tol in enumerate(tols):\n    t0 = time.time()\n    res = celer_path(X, y, 'lasso', alphas=alphas,\n                     tol=tol, prune=True, verbose=1)\n    results[0, tol_ix] = time.time() - t0\n    _, coefs, gaps[tol_ix] = res\n\n\nlabels = [r\"\\sc{Celer}\"]\nfigsize = (4, 3.5)\n\ndf = pd.DataFrame(results.T, columns=[\"Celer\"])\ndf.index = [str(tol) for tol in tols]\ndf.plot.bar(rot=0, figsize=figsize)\nplt.xlabel(\"stopping tolerance\")\nplt.ylabel(\"path computation time (s)\")\nplt.tight_layout()\nplt.show(block=False)"
      ]
    },
    {
      "cell_type": "markdown",
      "metadata": {},
      "source": [
        "Measure the influence of regularization on the sparsity of the solutions:\n\n"
      ]
    },
    {
      "cell_type": "code",
      "execution_count": null,
      "metadata": {
        "collapsed": false
      },
      "outputs": [],
      "source": [
        "fig, ax = plt.subplots(figsize=(8, 5), constrained_layout=True)\nplt.bar(np.arange(n_alphas), (coefs != 0).sum(axis=0))\nplt.title(\"Sparsity of solution along regularization path\")\nax.set_ylabel(r\"$||\\hat w||_0$\")\nax.set_xlabel(r\"$\\lambda / \\lambda_{\\mathrm{max}}$\")\nax.set_yscale('log')\nax.set_xticks(np.arange(n_alphas)[::2])\nax.set_xticklabels(map(lambda x: \"%.2f\" % x, alphas[::2] / alphas[0]))\nplt.show(block=False)"
      ]
    },
    {
      "cell_type": "markdown",
      "metadata": {},
      "source": [
        "Check convergence guarantees: gap is inferior to tolerance\n\n"
      ]
    },
    {
      "cell_type": "code",
      "execution_count": null,
      "metadata": {
        "collapsed": false
      },
      "outputs": [],
      "source": [
        "df = pd.DataFrame(gaps.T, columns=map(lambda x: r\"tol=%.0e\" % x, tols))\ndf.index = map(lambda x: \"%.2f\" % x, alphas / alphas[0])\nax = df.plot.bar(figsize=(7, 4))\nax.set_ylabel(\"duality gap reached\")\nax.set_xlabel(r\"$\\lambda / \\lambda_{\\mathrm{max}}$\")\nax.set_yscale('log')\nax.set_yticks(tols)\nplt.tight_layout()\nplt.show(block=False)"
      ]
    }
  ],
  "metadata": {
    "kernelspec": {
      "display_name": "Python 3",
      "language": "python",
      "name": "python3"
    },
    "language_info": {
      "codemirror_mode": {
        "name": "ipython",
        "version": 3
      },
      "file_extension": ".py",
      "mimetype": "text/x-python",
      "name": "python",
      "nbconvert_exporter": "python",
      "pygments_lexer": "ipython3",
      "version": "3.8.1"
    }
  },
  "nbformat": 4,
  "nbformat_minor": 0
}