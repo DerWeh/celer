{
  "cells": [
    {
      "cell_type": "code",
      "execution_count": null,
      "metadata": {
        "collapsed": false
      },
      "outputs": [],
      "source": [
        "%matplotlib inline"
      ]
    },
    {
      "cell_type": "markdown",
      "metadata": {},
      "source": [
        "\n# Run MultitaskLassoCV and compare performance with scikit-learn\n\nThe example runs the MultitaskLassoCV scikit-learn like estimator.\n"
      ]
    },
    {
      "cell_type": "code",
      "execution_count": null,
      "metadata": {
        "collapsed": false
      },
      "outputs": [],
      "source": [
        "import time\nimport numpy as np\nimport matplotlib.pyplot as plt\n\nfrom celer import MultiTaskLassoCV\nfrom numpy.linalg import norm\nfrom sklearn.utils import check_random_state\nfrom sklearn import linear_model\n\nrng = check_random_state(0)"
      ]
    },
    {
      "cell_type": "markdown",
      "metadata": {},
      "source": [
        "Generate some 2D coefficients with sine waves with random frequency and phase\n\n"
      ]
    },
    {
      "cell_type": "code",
      "execution_count": null,
      "metadata": {
        "collapsed": false
      },
      "outputs": [],
      "source": [
        "n_samples, n_features, n_tasks = 100, 500, 50\nn_relevant_features = 50\nsupport = rng.choice(n_features, n_relevant_features, replace=False)\ncoef = np.zeros((n_tasks, n_features))\ntimes = np.linspace(0, 2 * np.pi, n_tasks)\nfor k in support:\n    coef[:, k] = np.sin((1. + rng.randn(1)) * times + 3 * rng.randn(1))\n\n\nX = rng.randn(n_samples, n_features)\nY = np.dot(X, coef.T) + rng.randn(n_samples, n_tasks)\nY /= norm(Y, ord='fro')"
      ]
    },
    {
      "cell_type": "markdown",
      "metadata": {},
      "source": [
        "Fit with sklearn and celer, using the same API\n\n"
      ]
    },
    {
      "cell_type": "code",
      "execution_count": null,
      "metadata": {
        "collapsed": false
      },
      "outputs": [],
      "source": [
        "params = dict(tol=1e-6, cv=4, n_jobs=1, n_alphas=20)\nt0 = time.perf_counter()\nclf = MultiTaskLassoCV(**params).fit(X, Y)\nt_celer = time.perf_counter() - t0\n\nt0 = time.perf_counter()\nclf_sklearn = linear_model.MultiTaskLassoCV(**params).fit(X, Y)\nt_sklearn = time.perf_counter() - t0"
      ]
    },
    {
      "cell_type": "markdown",
      "metadata": {},
      "source": [
        "Celer is faster\n\n"
      ]
    },
    {
      "cell_type": "code",
      "execution_count": null,
      "metadata": {
        "collapsed": false
      },
      "outputs": [],
      "source": [
        "print(\"Time for celer  : %.2f s\" % t_celer)\nprint(\"Time for sklearn: %.2f s\" % t_sklearn)"
      ]
    },
    {
      "cell_type": "markdown",
      "metadata": {},
      "source": [
        "Both packages find the same solution\n\n"
      ]
    },
    {
      "cell_type": "code",
      "execution_count": null,
      "metadata": {
        "collapsed": false
      },
      "outputs": [],
      "source": [
        "print(\"Celer's optimal regularizer  : %s\" % clf.alpha_)\nprint(\"Sklearn's optimal regularizer: %s\" % clf_sklearn.alpha_)\n\nprint(\"Relative norm difference between optimal coefs: %.2f %%\" %\n      (100 * norm(clf.coef_ - clf_sklearn.coef_) / norm(clf.coef_)))"
      ]
    },
    {
      "cell_type": "code",
      "execution_count": null,
      "metadata": {
        "collapsed": false
      },
      "outputs": [],
      "source": [
        "fig, axarr = plt.subplots(2, 1, constrained_layout=True)\naxarr[0].spy(clf.coef_, aspect=\"auto\")\naxarr[0].xaxis.tick_bottom()\naxarr[0].set_title(\"celer\")\naxarr[0].set_ylabel(\"tasks\")\naxarr[1].spy(clf_sklearn.coef_, aspect=\"auto\")\naxarr[1].xaxis.tick_bottom()\naxarr[1].set_title(\"sklearn\")\nplt.suptitle(\"Sparsity patterns\")\nplt.ylabel(\"tasks\")\nplt.xlabel(\"features\")\nplt.show(block=False)"
      ]
    }
  ],
  "metadata": {
    "kernelspec": {
      "display_name": "Python 3",
      "language": "python",
      "name": "python3"
    },
    "language_info": {
      "codemirror_mode": {
        "name": "ipython",
        "version": 3
      },
      "file_extension": ".py",
      "mimetype": "text/x-python",
      "name": "python",
      "nbconvert_exporter": "python",
      "pygments_lexer": "ipython3",
      "version": "3.8.1"
    }
  },
  "nbformat": 4,
  "nbformat_minor": 0
}