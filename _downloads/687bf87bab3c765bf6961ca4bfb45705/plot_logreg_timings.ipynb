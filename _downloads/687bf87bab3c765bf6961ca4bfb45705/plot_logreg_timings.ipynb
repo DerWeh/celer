{
  "cells": [
    {
      "cell_type": "code",
      "execution_count": null,
      "metadata": {
        "collapsed": false
      },
      "outputs": [],
      "source": [
        "%matplotlib inline"
      ]
    },
    {
      "cell_type": "markdown",
      "metadata": {},
      "source": [
        "\n# Compare LogisticRegression solver with sklearn's liblinear backend\n"
      ]
    },
    {
      "cell_type": "code",
      "execution_count": null,
      "metadata": {
        "collapsed": false
      },
      "outputs": [],
      "source": [
        "import time\nimport warnings\nimport numpy as np\nfrom numpy.linalg import norm\nimport matplotlib.pyplot as plt\nfrom sklearn import linear_model\nfrom libsvmdata import fetch_libsvm\n\nfrom celer import LogisticRegression\n\nwarnings.filterwarnings(\"ignore\", message=\"Objective did not converge\")\nwarnings.filterwarnings(\"ignore\", message=\"Liblinear failed to converge\")\n\nX, y = fetch_libsvm(\"news20.binary\")\n\nC_min = 2 / norm(X.T @ y, ord=np.inf)\nC = 20 * C_min\n\n\ndef pobj_logreg(w):\n    return np.sum(np.log(1 + np.exp(-y * (X @ w)))) + 1. / C * norm(w, ord=1)\n\n\npobj_celer = []\nt_celer = []\n\nfor n_iter in range(10):\n    t0 = time.time()\n    clf = LogisticRegression(\n        C=C, solver=\"celer-pn\", max_iter=n_iter, tol=0).fit(X, y)\n    t_celer.append(time.time() - t0)\n    w_celer = clf.coef_.ravel()\n    pobj_celer.append(pobj_logreg(w_celer))\n\npobj_celer = np.array(pobj_celer)\n\n\npobj_libl = []\nt_libl = []\n\nfor n_iter in np.arange(0, 50, 10):\n    t0 = time.time()\n    clf = linear_model.LogisticRegression(\n        C=C, solver=\"liblinear\", penalty='l1', fit_intercept=False,\n        max_iter=n_iter, random_state=0, tol=1e-10).fit(X, y)\n    t_libl.append(time.time() - t0)\n    w_libl = clf.coef_.ravel()\n    pobj_libl.append(pobj_logreg(w_libl))\n\npobj_libl = np.array(pobj_libl)\n\np_star = min(pobj_celer.min(), pobj_libl.min())\n\nplt.close(\"all\")\nfig = plt.figure(figsize=(4, 2), constrained_layout=True)\nplt.semilogy(t_celer, pobj_celer - p_star, label=\"Celer-PN\")\nplt.semilogy(t_libl, pobj_libl - p_star, label=\"liblinear\")\nplt.legend()\nplt.xlabel(\"Time (s)\")\nplt.ylabel(\"objective suboptimality\")\nplt.show(block=False)"
      ]
    }
  ],
  "metadata": {
    "kernelspec": {
      "display_name": "Python 3",
      "language": "python",
      "name": "python3"
    },
    "language_info": {
      "codemirror_mode": {
        "name": "ipython",
        "version": 3
      },
      "file_extension": ".py",
      "mimetype": "text/x-python",
      "name": "python",
      "nbconvert_exporter": "python",
      "pygments_lexer": "ipython3",
      "version": "3.8.1"
    }
  },
  "nbformat": 4,
  "nbformat_minor": 0
}